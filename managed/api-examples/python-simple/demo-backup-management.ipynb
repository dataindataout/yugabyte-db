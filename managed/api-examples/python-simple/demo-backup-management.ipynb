{
 "cells": [
  {
   "cell_type": "markdown",
   "metadata": {},
   "source": [
    "# Backup Management\n",
    "This notebook will demonstrate the platform APIs for backup management. "
   ]
  },
  {
   "cell_type": "markdown",
   "metadata": {},
   "source": [
    "## Setup\n",
    "\n",
    "Set the `YB_PLATFORM_URL` and `YB_API_KEY` environment variables in a .env file before running this notebook.\n",
    "\n",
    "Note: \"verify=False\" is used to disable SSL verification for the purposes of this demonstration, but you should use appropriate certificates in a production environment.\n"
   ]
  },
  {
   "cell_type": "code",
   "execution_count": null,
   "metadata": {},
   "outputs": [],
   "source": [
    "import os\n",
    "import requests\n",
    "from pprint import pprint\n",
    "from dotenv import load_dotenv\n",
    "\n",
    "# just for demo environment, not production\n",
    "import urllib3\n",
    "urllib3.disable_warnings(urllib3.exceptions.InsecureRequestWarning)\n",
    "\n",
    "load_dotenv()\n",
    "\n",
    "yba_url = os.getenv(\"YBA_PLATFORM_URL\")\n",
    "yba_api_key = os.getenv(\"YBA_API_KEY\")\n",
    "\n",
    "headers = {\n",
    "  'Content-Type': \"application/json\",\n",
    "  'X-AUTH-YW-API-TOKEN': f\"{yba_api_key}\"\n",
    "}\n",
    "\n",
    "session = requests.Session()\n",
    "session.verify = False\n",
    "session.headers = headers\n",
    "\n",
    "universe_uuid=\"e4d77b12-3bec-4965-a625-056a1fc0ef85\" # Replace with your universe UUID"
   ]
  },
  {
   "cell_type": "markdown",
   "metadata": {},
   "source": [
    "## Get the customer ID\n",
    "\n",
    "The customer ID is unique to the YBA platform and is required for the following Platform API calls. "
   ]
  },
  {
   "cell_type": "code",
   "execution_count": null,
   "metadata": {},
   "outputs": [],
   "source": [
    "route = f\"{yba_url}/api/v1/session_info\"\n",
    "response = session.get(url=route).json()\n",
    "customer_uuid = response[\"customerUUID\"]"
   ]
  },
  {
   "cell_type": "markdown",
   "metadata": {},
   "source": [
    "## Create an ad hoc backup\n",
    "\n",
    "Create a new backup for a specific universe.\n",
    "\n",
    "ref: https://api-docs.yugabyte.com/docs/yugabyte-platform/2d87d8d6901ad-create-a-backup-v2"
   ]
  },
  {
   "cell_type": "code",
   "execution_count": null,
   "metadata": {},
   "outputs": [],
   "source": [
    "keyspace = \"dss\" # Replace with your keyspace\n",
    "storage_config_uuid = \"e78ab1c8-99af-4bfb-9423-4978955b5dcb\" # Replace with your storage config UUID\n",
    "time_before_delete = \"86400000\" # 1 day, in milliseconds\n",
    "expiry_time_unit = \"MILLISECONDS\"\n",
    "backup_type=\"PGSQL_TABLE_TYPE\"\n",
    "\n",
    "route = f\"{yba_url}/api/v1/customers/{customer_uuid}/backups\"\n",
    "\n",
    "payload = {\n",
    "  \"universeUUID\": universe_uuid,\n",
    "  \"keyspace\": keyspace,\n",
    "  \"storageConfigUUID\": storage_config_uuid,\n",
    "  \"timeBeforeDelete\": time_before_delete,\n",
    "  \"expiryTimeUnit\": expiry_time_unit,\n",
    "  \"backupType\": backup_type\n",
    "}\n",
    "\n",
    "# avoids no CSRF token error by emptying the cookie jar\n",
    "session.cookies = requests.cookies.RequestsCookieJar()\n",
    "\n",
    "response = session.post(url=route, json=payload).json()\n",
    "\n",
    "if response.get('success', True):\n",
    "  task_uuid = response['taskUUID']\n",
    "  print(f\"Task UUID: {response['taskUUID']}\")\n",
    "else:\n",
    "  print(f\"Request failed:\\n{response}\")"
   ]
  },
  {
   "cell_type": "markdown",
   "metadata": {},
   "source": [
    "## Check on this task running in the background\n",
    "\n",
    "ref: https://api-docs.yugabyte.com/docs/yugabyte-platform/ae83717943b4c-get-a-task-s-status"
   ]
  },
  {
   "cell_type": "code",
   "execution_count": null,
   "metadata": {},
   "outputs": [],
   "source": [
    "route = f\"{yba_url}/api/v1/customers/{customer_uuid}/tasks/{task_uuid}\"\n",
    "response = session.get(url=route).json()\n",
    "pprint(response)"
   ]
  },
  {
   "cell_type": "markdown",
   "metadata": {},
   "source": [
    "## Get the backup ID associated with this task\n",
    "\n",
    "ref: https://api-docs.yugabyte.com/docs/yugabyte-platform/bcec8c9a18e02-list-backups-associated-with-a-task"
   ]
  },
  {
   "cell_type": "code",
   "execution_count": null,
   "metadata": {},
   "outputs": [],
   "source": [
    "route = f\"{yba_url}/api/v1/customers/{customer_uuid}/universes/{universe_uuid}/backups/tasks/{task_uuid}\"\n",
    "response = session.get(url=route).json()\n",
    "\n",
    "for item in response:\n",
    "    if item['taskUUID'] == task_uuid:\n",
    "        backup_uuid = item['backupUUID']\n",
    "        print(f\"Backup UUID: {backup_uuid}\")\n",
    "        break\n",
    "else:\n",
    "    print(f\"No backup found for task UUID {task_uuid}\")"
   ]
  },
  {
   "cell_type": "markdown",
   "metadata": {},
   "source": [
    "## List existing backups\n",
    "\n",
    "List existing backups for the selected universe.\n",
    "\n",
    "ref: https://api-docs.yugabyte.com/docs/yugabyte-platform/a1b711e0f6405-list-backups-paginated-v2"
   ]
  },
  {
   "cell_type": "code",
   "execution_count": null,
   "metadata": {},
   "outputs": [],
   "source": [
    "route = f\"{yba_url}/api/v1/customers/{customer_uuid}/universes/{universe_uuid}/backups\"\n",
    "response = session.get(url=route).json()\n",
    "\n",
    "for item in response:\n",
    "    print(f\"Backup UUID: {item['backupUUID']}, expires: {item['expiry']}\")"
   ]
  },
  {
   "cell_type": "markdown",
   "metadata": {},
   "source": [
    "## Show expiry time for one backup\n",
    "\n",
    "Show expiry time for a backup.\n",
    "\n",
    "ref: https://api-docs.yugabyte.com/docs/yugabyte-platform/9a35f53fa6a1c-get-backup-v2"
   ]
  },
  {
   "cell_type": "code",
   "execution_count": null,
   "metadata": {},
   "outputs": [],
   "source": [
    "route = f\"{yba_url}/api/v1/customers/{customer_uuid}/backups/{backup_uuid}\"\n",
    "response = session.get(url=route).json()\n",
    "pprint(response[\"expiry\"])"
   ]
  },
  {
   "cell_type": "markdown",
   "metadata": {},
   "source": [
    "## Delete a backup\n",
    "\n",
    "Delete a backup (before it expires).\n",
    "\n",
    "ref: https://api-docs.yugabyte.com/docs/yugabyte-platform/e7527b334c71a-delete-backups-v2"
   ]
  },
  {
   "cell_type": "code",
   "execution_count": null,
   "metadata": {},
   "outputs": [],
   "source": [
    "route = f\"{yba_url}/api/v1/customers/{customer_uuid}/backups/delete\"\n",
    "\n",
    "payload = { \"deleteBackupInfos\": [ {\"backupUUID\": backup_uuid} ] }\n",
    "\n",
    "# avoids no CSRF token error by emptying the cookie jar\n",
    "session.cookies = requests.cookies.RequestsCookieJar()\n",
    "\n",
    "response = session.post(url=route, json=payload).json()\n",
    "task_uuid = response.get('taskUUID', [None])[0]\n",
    "print(f\"Task UUID: {task_uuid}\")"
   ]
  },
  {
   "cell_type": "markdown",
   "metadata": {},
   "source": [
    "## Check on the backup deletion task"
   ]
  },
  {
   "cell_type": "code",
   "execution_count": null,
   "metadata": {},
   "outputs": [],
   "source": [
    "route = f\"{yba_url}/api/v1/customers/{customer_uuid}/tasks/{task_uuid}\"\n",
    "response = session.get(url=route).json()\n",
    "pprint(response)"
   ]
  }
 ],
 "metadata": {
  "kernelspec": {
   "display_name": "Python 3",
   "language": "python",
   "name": "python3"
  },
  "language_info": {
   "codemirror_mode": {
    "name": "ipython",
    "version": 3
   },
   "file_extension": ".py",
   "mimetype": "text/x-python",
   "name": "python",
   "nbconvert_exporter": "python",
   "pygments_lexer": "ipython3",
   "version": "3.10.9"
  }
 },
 "nbformat": 4,
 "nbformat_minor": 2
}
