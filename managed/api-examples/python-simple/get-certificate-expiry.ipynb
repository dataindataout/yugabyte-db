{
 "cells": [
  {
   "cell_type": "markdown",
   "metadata": {},
   "source": [
    "# Show Certificate Expiration Dates\n",
    "This notebook will demonstrate the platform APIs for retrieving certificate expiration dates. "
   ]
  },
  {
   "cell_type": "markdown",
   "metadata": {},
   "source": [
    "## Setup\n",
    "\n",
    "Set the `YB_PLATFORM_URL` and `YB_API_KEY` environment variables in a .env file before running this notebook.\n",
    "\n",
    "Note: \"verify=False\" is used to disable SSL verification for the purposes of this demonstration, but you should use appropriate certificates in a production environment.\n"
   ]
  },
  {
   "cell_type": "code",
   "execution_count": null,
   "metadata": {},
   "outputs": [],
   "source": [
    "import os\n",
    "import requests\n",
    "from pprint import pprint\n",
    "from dotenv import load_dotenv\n",
    "from datetime import datetime, timezone\n",
    "\n",
    "load_dotenv()\n",
    "\n",
    "yba_url = os.getenv(\"YBA_PLATFORM_URL\")\n",
    "yba_api_key = os.getenv(\"YBA_API_KEY\")\n",
    "\n",
    "headers = {\n",
    "  'Content-Type': \"application/json\",\n",
    "  'X-AUTH-YW-API-TOKEN': f\"{yba_api_key}\"\n",
    "}\n",
    "\n",
    "session = requests.Session()\n",
    "session.verify = False\n",
    "session.headers = headers\n",
    "\n",
    "pprint(yba_url)\n",
    "pprint(yba_api_key)\n",
    "pprint(headers)"
   ]
  },
  {
   "cell_type": "markdown",
   "metadata": {},
   "source": [
    "## Get the customer ID\n",
    "\n",
    "The customer ID is unique to the YBA platform and is required for the following Platform API calls. "
   ]
  },
  {
   "cell_type": "code",
   "execution_count": null,
   "metadata": {},
   "outputs": [],
   "source": [
    "route = f\"{yba_url}/api/v1/session_info\"\n",
    "response = session.get(url=route).json()\n",
    "customer_uuid = response[\"customerUUID\"]\n",
    "\n",
    "print(customer_uuid)"
   ]
  },
  {
   "cell_type": "markdown",
   "metadata": {},
   "source": [
    "## List certificates\n",
    "\n",
    "List a customer's certificates.\n",
    "\n",
    "ref: https://api-docs.yugabyte.com/docs/yugabyte-platform/5a40faca3973c-list-a-customer-s-certificates"
   ]
  },
  {
   "cell_type": "code",
   "execution_count": null,
   "metadata": {},
   "outputs": [],
   "source": [
    "route = f\"{yba_url}/api/v1/customers/{customer_uuid}/certificates\"\n",
    "response = session.get(url=route)\n",
    "metrics = response.json()\n",
    "\n",
    "today = datetime.now(timezone.utc)\n",
    "\n",
    "for item in metrics:\n",
    "    start_date = datetime.fromisoformat(item['startDateIso'].replace('Z', '+00:00'))\n",
    "    expiry_date = datetime.fromisoformat(item['expiryDateIso'].replace('Z', '+00:00'))\n",
    "    time_to_expiry = expiry_date - today\n",
    "    \n",
    "    print(f\"{item['label']}\\n\"\n",
    "          f\"created: {start_date}\\n\"\n",
    "          f\"expiration: {expiry_date}\\n\"\n",
    "          f\"time to expiry: {time_to_expiry}\\n\")"
   ]
  }
 ],
 "metadata": {
  "kernelspec": {
   "display_name": "3.10.9",
   "language": "python",
   "name": "python3"
  },
  "language_info": {
   "codemirror_mode": {
    "name": "ipython",
    "version": 3
   },
   "file_extension": ".py",
   "mimetype": "text/x-python",
   "name": "python",
   "nbconvert_exporter": "python",
   "pygments_lexer": "ipython3",
   "version": "3.10.9"
  }
 },
 "nbformat": 4,
 "nbformat_minor": 2
}
