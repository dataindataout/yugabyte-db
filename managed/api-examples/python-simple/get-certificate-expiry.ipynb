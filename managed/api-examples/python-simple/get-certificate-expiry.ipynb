{
 "cells": [
  {
   "cell_type": "markdown",
   "metadata": {},
   "source": [
    "# Show Certificate Expiration Dates\n",
    "This notebook will demonstrate the platform APIs for retrieving certificate expiration dates. "
   ]
  },
  {
   "cell_type": "markdown",
   "metadata": {},
   "source": [
    "## Setup\n",
    "\n",
    "Set the `YB_PLATFORM_URL` and `YB_API_KEY` environment variables in a .env file before running this notebook.\n",
    "\n",
    "Note: \"verify=False\" is used to disable SSL verification for the purposes of this demonstration, but you should use appropriate certificates in a production environment.\n"
   ]
  },
  {
   "cell_type": "code",
   "execution_count": null,
   "metadata": {},
   "outputs": [],
   "source": [
    "import os\n",
    "import requests\n",
    "from pprint import pprint\n",
    "from dotenv import load_dotenv\n",
    "from datetime import datetime, timezone\n",
    "\n",
    "load_dotenv()\n",
    "\n",
    "yba_url = os.getenv(\"YBA_PLATFORM_URL\")\n",
    "yba_api_key = os.getenv(\"YBA_API_KEY\")\n",
    "\n",
    "headers = {\n",
    "  'Content-Type': \"application/json\",\n",
    "  'X-AUTH-YW-API-TOKEN': f\"{yba_api_key}\"\n",
    "}\n",
    "\n",
    "session = requests.Session()\n",
    "session.verify = False\n",
    "session.headers = headers\n",
    "\n",
    "pprint(yba_url)\n",
    "pprint(yba_api_key)\n",
    "pprint(headers)"
   ]
  },
  {
   "cell_type": "markdown",
   "metadata": {},
   "source": [
    "## Get the customer ID\n",
    "\n",
    "The customer ID is unique to the YBA platform and is required for the following Platform API calls. "
   ]
  },
  {
   "cell_type": "code",
   "execution_count": null,
   "metadata": {},
   "outputs": [],
   "source": [
    "route = f\"{yba_url}/api/v1/session_info\"\n",
    "response = session.get(url=route).json()\n",
    "customer_uuid = response[\"customerUUID\"]\n",
    "\n",
    "print(customer_uuid)"
   ]
  },
  {
   "cell_type": "markdown",
   "metadata": {},
   "source": [
    "## List root certificates\n",
    "\n",
    "List a customer's root certificates along with expiration dates.\n",
    "\n",
    "ref: https://api-docs.yugabyte.com/docs/yugabyte-platform/5a40faca3973c-list-a-customer-s-certificates"
   ]
  },
  {
   "cell_type": "code",
   "execution_count": null,
   "metadata": {},
   "outputs": [],
   "source": [
    "route = f\"{yba_url}/api/v1/customers/{customer_uuid}/certificates\"\n",
    "response = session.get(url=route)\n",
    "metrics = response.json()\n",
    "\n",
    "today = datetime.now(timezone.utc)\n",
    "\n",
    "for item in metrics:\n",
    "    start_date = datetime.fromisoformat(item['startDateIso'].replace('Z', '+00:00'))\n",
    "    expiry_date = datetime.fromisoformat(item['expiryDateIso'].replace('Z', '+00:00'))\n",
    "    time_to_expiry = expiry_date - today\n",
    "    \n",
    "    print(f\"{item['label']}\\n\"\n",
    "          f\"created: {start_date}\\n\"\n",
    "          f\"expiration: {expiry_date}\\n\"\n",
    "          f\"time to expiry: {time_to_expiry}\\n\")"
   ]
  },
  {
   "cell_type": "markdown",
   "metadata": {},
   "source": [
    "## Show count of expired node-to-node certificates\n",
    "\n",
    "Example of retrieving a single prometheus metric; in this case, the count of expired node-to-node certificates per universe.\n",
    "\n",
    "ref: https://api-docs.yugabyte.com/docs/yugabyte-platform/732209b7fa9b0-get-prometheus-metrics"
   ]
  },
  {
   "cell_type": "code",
   "execution_count": null,
   "metadata": {},
   "outputs": [],
   "source": [
    "route = f\"{yba_url}/api/v1/prometheus_metrics\"\n",
    "response = session.get(url=route)\n",
    "metrics = response.text\n",
    "\n",
    "# Search for lines containing your metric\n",
    "target_metric = \"ybp_health_check_n2n_cert\"\n",
    "matching_lines = [line for line in metrics.splitlines() if target_metric in line]\n",
    "print(\"\\n\".join(matching_lines))"
   ]
  },
  {
   "cell_type": "markdown",
   "metadata": {},
   "source": [
    "## Health check metrics\n",
    "\n",
    "Example of parsing values from the large health check output. This pulls the node-to-node and client-to-node certificate days remaining before expiration.\n",
    "\n",
    "ref: https://api-docs.yugabyte.com/docs/yugabyte-platform/38a27fa229333-return-results-for-the-last-health-check"
   ]
  },
  {
   "cell_type": "code",
   "execution_count": null,
   "metadata": {},
   "outputs": [],
   "source": [
    "# hard coded; get this programmatically\n",
    "universe_uuid = \"asdfasdf-asdf-asdf-asdf-asdfasdfasdf\"\n",
    "\n",
    "route = f\"{yba_url}/api/v1/customers/{customer_uuid}/universes/{universe_uuid}/health_check\"\n",
    "response = session.get(url=route)\n",
    "metrics = response.json()\n",
    "\n",
    "# pprint(metrics)\n",
    "\n",
    "health_checks = [\n",
    "    (item, metric, value)\n",
    "    for entry in metrics\n",
    "    for item in entry.get('data', [])\n",
    "    for metric in item.get('metrics', [])\n",
    "    for value in metric.get('values', [])\n",
    "]\n",
    "    \n",
    "n2n_validity_days = {\n",
    "    int(value['value']) \n",
    "    for _, metric, value in health_checks\n",
    "    if metric['name'] == 'ybp_health_check_n2n_cert_validity_days'\n",
    "}\n",
    "    \n",
    "c2n_validity_days = {\n",
    "    int(value['value'])\n",
    "    for _, metric, value in health_checks\n",
    "    if metric['name'] == 'ybp_health_check_client_cert_validity_days'\n",
    "}\n",
    "    \n",
    "print(f\"n2n: {n2n_validity_days}\\nc2n: {c2n_validity_days}\") "
   ]
  }
 ],
 "metadata": {
  "kernelspec": {
   "display_name": "3.10.9",
   "language": "python",
   "name": "python3"
  },
  "language_info": {
   "codemirror_mode": {
    "name": "ipython",
    "version": 3
   },
   "file_extension": ".py",
   "mimetype": "text/x-python",
   "name": "python",
   "nbconvert_exporter": "python",
   "pygments_lexer": "ipython3",
   "version": "3.10.9"
  }
 },
 "nbformat": 4,
 "nbformat_minor": 2
}
